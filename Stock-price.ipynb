{
 "cells": [
  {
   "cell_type": "code",
   "execution_count": null,
   "id": "a30856e6",
   "metadata": {},
   "outputs": [],
   "source": [
    "# stock Price Predictor\n",
    "import numpy as np\n",
    "import pandas as pd\n",
    "from sklearn.preprocessing import MinMaxScaler\n",
    "import matplotlib.pyplot as plt\n",
    "\n",
    "import torch\n",
    "import torch.nn as nn\n",
    "\n",
    "df = pd.read_csv(\"netflix.csv\")\n",
    "closed_prices = df[\"Close\"]\n",
    "\n",
    "\n",
    "seq_len = 15\n",
    "\n",
    "mm = MinMaxScaler()\n",
    "scaled_price = mm.fit_transform(np.array(closed_prices)[... , None]).squeeze()\n",
    "\n",
    "X = []\n",
    "y = []\n",
    "\n",
    "for i in range(len(scaled_price) - seq_len):\n",
    "    X.append(scaled_price[i : i + seq_len])\n",
    "    y.append(scaled_price[i + seq_len])\n",
    "\n",
    "X = np.array(X)[... , None]\n",
    "y = np.array(y)[... , None]\n",
    "    \n",
    "train_x = torch.from_numpy(X[:int(0.8 * X.shape[0])]).float()\n",
    "train_y = torch.from_numpy(y[:int(0.8 * X.shape[0])]).float()\n",
    "test_x = torch.from_numpy(X[int(0.8 * X.shape[0]):]).float()\n",
    "test_y = torch.from_numpy(y[int(0.8 * X.shape[0]):]).float()\n",
    "\n",
    "class Model(nn.Module):\n",
    "    def __init__(self , input_size , hidden_size):\n",
    "        super().__init__()\n",
    "        self.lstm = nn.LSTM(input_size , hidden_size , batch_first = True)\n",
    "        self.fc = nn.Linear(hidden_size , 1)\n",
    "    def forward(self , x):\n",
    "        output , (hidden , cell) = self.lstm(x)\n",
    "        return self.fc(hidden[-1 , :])\n",
    "model = Model(1 , 64)\n",
    "\n",
    "optimizer = torch.optim.Adam(model.parameters() , lr = 0.001)\n",
    "loss_fn = nn.MSELoss()\n",
    "\n",
    "num_epochs = 100\n",
    "\n",
    "for epoch in range(num_epochs):\n",
    "    output = model(train_x)\n",
    "    loss = loss_fn(output , train_y)\n",
    "\n",
    "    optimizer.zero_grad()\n",
    "    loss.backward()\n",
    "    optimizer.step()\n",
    "\n",
    "    if epoch % 10 == 0 and epoch != 0:\n",
    "        print(epoch , \"epoch loss\" , loss.detach().numpy())\n",
    "\n",
    "model.eval()\n",
    "with torch.no_grad():\n",
    "    output = model(test_x)\n",
    "\n",
    "pred = mm.inverse_transform(output.numpy())\n",
    "real = mm.inverse_transform(test_y.numpy())\n",
    "\n",
    "plt.plot(pred.squeeze() , color = \"red\" , label = \"predicted\")\n",
    "plt.plot(real.squeeze() , color = \"green\" , label = \"real\")\n",
    "plt.show()\n",
    "\n",
    "\n",
    "\n",
    "\n"
   ]
  },
  {
   "cell_type": "code",
   "execution_count": 1,
   "id": "cf0aedcc",
   "metadata": {},
   "outputs": [
    {
     "name": "stdout",
     "output_type": "stream",
     "text": [
      "8\n"
     ]
    }
   ],
   "source": [
    "print(4+4)"
   ]
  },
  {
   "cell_type": "code",
   "execution_count": null,
   "id": "63290c14",
   "metadata": {},
   "outputs": [],
   "source": []
  }
 ],
 "metadata": {
  "kernelspec": {
   "display_name": "Python 3 (ipykernel)",
   "language": "python",
   "name": "python3"
  },
  "language_info": {
   "codemirror_mode": {
    "name": "ipython",
    "version": 3
   },
   "file_extension": ".py",
   "mimetype": "text/x-python",
   "name": "python",
   "nbconvert_exporter": "python",
   "pygments_lexer": "ipython3",
   "version": "3.9.13"
  }
 },
 "nbformat": 4,
 "nbformat_minor": 5
}
